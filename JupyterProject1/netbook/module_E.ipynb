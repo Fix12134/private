{
 "cells": [
  {
   "metadata": {},
   "cell_type": "code",
   "outputs": [],
   "execution_count": null,
   "source": [
    "import networkx as nx\n",
    "import matplotlib.pyplot as plt\n",
    "\n",
    "edges = [\n",
    "    (\"Анализ информационных моделей\", \"Поиск информации в реляционных базах данных\"),\n",
    "    (\"Поиск информации в реляционных базах данных\", \"Работа с таблицами\"),\n",
    "    (\"Работа с таблицами\", \"Поиск символов в текстовом редакторе\"),\n",
    "    (\"Поиск символов в текстовом редакторе\", \"Определение результатов работы алгоритмов\"),\n",
    "    (\"Определение результатов работы алгоритмов\", \"Программирование\"),\n",
    "    (\"Программирование\", \"Безопасность данных\"),\n",
    "    (\"Кодирование и декодирование информации\", \"Организация компьютерных сетей. Адресация\"),\n",
    "    (\"Организация компьютерных сетей. Адресация\", \"Безопасность данных\"),\n",
    "    (\"Кодирование и декодирование информации\", \"Безопасность данных\"),\n",
    "    (\"Анализ информационных моделей\", \"Определение результатов работы алгоритмов\"),\n",
    "    (\"Поиск информации в реляционных базах данных\", \"Определение результатов работы алгоритмов\"),\n",
    "    (\"Поиск информации в реляционных базах данных\", \"Кодирование и декодирование информации\"),\n",
    "    (\"Работа с таблицами\", \"Организация компьютерных сетей. Адресация\")\n",
    "]"
   ],
   "id": "55062c729cfe9612"
  },
  {
   "metadata": {},
   "cell_type": "code",
   "outputs": [],
   "execution_count": null,
   "source": [
    "G = nx.DiGraph()\n",
    "G.add_edges_from(edges)\n",
    "\n",
    "plt.figure(figsize=(12, 7))\n",
    "pos = nx.spring_layout(G)\n",
    "nx.draw(G, pos, with_labels=True, node_size=3000, node_color=\"lightblue\", font_size=10, font_weight=\"bold\", edge_color=\"gray\")\n",
    "plt.title(\"Граф зависимостей заданий\")\n",
    "plt.show()"
   ],
   "id": "a112414745b78857"
  },
  {
   "metadata": {},
   "cell_type": "code",
   "outputs": [],
   "execution_count": null,
   "source": [
    "if nx.is_directed_acyclic_graph(G):\n",
    "    print(\"✅ Тест №1 пройден: Граф ацикличен, образовательная траектория корректна.\")\n",
    "else:\n",
    "    print(\"❌ Тест №1 не пройден: Граф содержит циклы.\")"
   ],
   "id": "e30277da85dd046b"
  },
  {
   "metadata": {},
   "cell_type": "code",
   "outputs": [],
   "execution_count": null,
   "source": [
    "if nx.is_directed_acyclic_graph(G):\n",
    "    optimal_order = list(nx.topological_sort(G))\n",
    "    print(\"✅ Тест №2 пройден: Оптимальный порядок построен.\")\n",
    "    print(\"Оптимальный порядок выполнения заданий:\")\n",
    "    print(\" → \".join(optimal_order))\n",
    "else:\n",
    "    print(\"❌ Тест №2 не пройден: Граф содержит циклы.\")"
   ],
   "id": "d23f28a598b2364c"
  },
  {
   "metadata": {},
   "cell_type": "code",
   "outputs": [],
   "execution_count": null,
   "source": [
    "if nx.is_directed_acyclic_graph(G):\n",
    "    longest_path = nx.dag_longest_path(G)\n",
    "    print(f\"✅ Тест №3 пройден: Самая сложная траектория содержит {len(longest_path)} шагов.\")\n",
    "    print(\"Самая сложная траектория:\")\n",
    "    print(\" → \".join(longest_path))\n",
    "else:\n",
    "    print(\"❌ Тест №3 не пройден: Граф содержит циклы.\")"
   ],
   "id": "f47e9b74b51a9ca6"
  },
  {
   "metadata": {},
   "cell_type": "code",
   "outputs": [],
   "execution_count": null,
   "source": [
    "pagerank = nx.pagerank(G)\n",
    "sorted_pagerank = sorted(pagerank.items(), key=lambda x: x[1], reverse=True)\n",
    "\n",
    "print(\"\\n🔹 Метрика значимости тем:\")\n",
    "for topic, score in sorted_pagerank:\n",
    "    print(f\"{topic}: {score:.4f}\")"
   ],
   "id": "48de686f5f8549d3"
  }
 ],
 "metadata": {},
 "nbformat": 5,
 "nbformat_minor": 9
}
