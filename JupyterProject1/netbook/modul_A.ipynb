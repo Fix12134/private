{
 "cells": [
  {
   "cell_type": "code",
   "id": "initial_id",
   "metadata": {
    "collapsed": true,
    "ExecuteTime": {
     "end_time": "2025-02-20T08:18:18.649953Z",
     "start_time": "2025-02-20T08:18:18.626863Z"
    }
   },
   "source": [
    "import pandas as pd\n",
    "import matplotlib.pyplot as plt\n",
    "import seaborn as sns\n",
    "\n",
    "df = pd.read_csv(r'..\\data\\urozhai_data.csv')\n",
    "\n",
    "df"
   ],
   "outputs": [
    {
     "data": {
      "text/plain": [
       "      Год          Регион      Культура  Урожайность (т/га)  Площадь (га)  \\\n",
       "0    2010          Сибирь       Пшеница            3.185431          5860   \n",
       "1    2010          Сибирь        Ячмень            3.001689         21023   \n",
       "2    2010          Сибирь      Кукуруза            4.278667         24769   \n",
       "3    2010          Сибирь     Картофель            3.148628          5189   \n",
       "4    2010          Сибирь  Подсолнечник            4.561384         19502   \n",
       "..    ...             ...           ...                 ...           ...   \n",
       "345  2023  Дальний Восток       Пшеница            4.234885         25360   \n",
       "346  2023  Дальний Восток        Ячмень            4.709431         13547   \n",
       "347  2023  Дальний Восток      Кукуруза                 NaN         49617   \n",
       "348  2023  Дальний Восток     Картофель            3.717891         39926   \n",
       "349  2023  Дальний Восток  Подсолнечник            3.289414         49864   \n",
       "\n",
       "     Общее производство (т)  Осадки (мм)  Температура (°C)  Удобрения (кг/га)  \n",
       "0              18666.622934          NaN         20.593820         139.527524  \n",
       "1              63104.502594          NaN          6.128232         158.299816  \n",
       "2             105978.297804   514.853859         13.638900          93.684371  \n",
       "3              16338.232222   254.363861         17.367720         107.369299  \n",
       "4              88956.109279          NaN         23.844035         134.493233  \n",
       "..                      ...          ...               ...                ...  \n",
       "345           107396.672191   281.960542         18.032795         160.789619  \n",
       "346            63798.661415   251.204802          5.860139         150.029999  \n",
       "347            96723.414289   208.816033         12.581881         100.601832  \n",
       "348           148440.501294   398.145668               NaN          90.001279  \n",
       "349           164023.345089   387.118315         20.479828         165.938222  \n",
       "\n",
       "[350 rows x 9 columns]"
      ],
      "text/html": [
       "<div>\n",
       "<style scoped>\n",
       "    .dataframe tbody tr th:only-of-type {\n",
       "        vertical-align: middle;\n",
       "    }\n",
       "\n",
       "    .dataframe tbody tr th {\n",
       "        vertical-align: top;\n",
       "    }\n",
       "\n",
       "    .dataframe thead th {\n",
       "        text-align: right;\n",
       "    }\n",
       "</style>\n",
       "<table border=\"1\" class=\"dataframe\">\n",
       "  <thead>\n",
       "    <tr style=\"text-align: right;\">\n",
       "      <th></th>\n",
       "      <th>Год</th>\n",
       "      <th>Регион</th>\n",
       "      <th>Культура</th>\n",
       "      <th>Урожайность (т/га)</th>\n",
       "      <th>Площадь (га)</th>\n",
       "      <th>Общее производство (т)</th>\n",
       "      <th>Осадки (мм)</th>\n",
       "      <th>Температура (°C)</th>\n",
       "      <th>Удобрения (кг/га)</th>\n",
       "    </tr>\n",
       "  </thead>\n",
       "  <tbody>\n",
       "    <tr>\n",
       "      <th>0</th>\n",
       "      <td>2010</td>\n",
       "      <td>Сибирь</td>\n",
       "      <td>Пшеница</td>\n",
       "      <td>3.185431</td>\n",
       "      <td>5860</td>\n",
       "      <td>18666.622934</td>\n",
       "      <td>NaN</td>\n",
       "      <td>20.593820</td>\n",
       "      <td>139.527524</td>\n",
       "    </tr>\n",
       "    <tr>\n",
       "      <th>1</th>\n",
       "      <td>2010</td>\n",
       "      <td>Сибирь</td>\n",
       "      <td>Ячмень</td>\n",
       "      <td>3.001689</td>\n",
       "      <td>21023</td>\n",
       "      <td>63104.502594</td>\n",
       "      <td>NaN</td>\n",
       "      <td>6.128232</td>\n",
       "      <td>158.299816</td>\n",
       "    </tr>\n",
       "    <tr>\n",
       "      <th>2</th>\n",
       "      <td>2010</td>\n",
       "      <td>Сибирь</td>\n",
       "      <td>Кукуруза</td>\n",
       "      <td>4.278667</td>\n",
       "      <td>24769</td>\n",
       "      <td>105978.297804</td>\n",
       "      <td>514.853859</td>\n",
       "      <td>13.638900</td>\n",
       "      <td>93.684371</td>\n",
       "    </tr>\n",
       "    <tr>\n",
       "      <th>3</th>\n",
       "      <td>2010</td>\n",
       "      <td>Сибирь</td>\n",
       "      <td>Картофель</td>\n",
       "      <td>3.148628</td>\n",
       "      <td>5189</td>\n",
       "      <td>16338.232222</td>\n",
       "      <td>254.363861</td>\n",
       "      <td>17.367720</td>\n",
       "      <td>107.369299</td>\n",
       "    </tr>\n",
       "    <tr>\n",
       "      <th>4</th>\n",
       "      <td>2010</td>\n",
       "      <td>Сибирь</td>\n",
       "      <td>Подсолнечник</td>\n",
       "      <td>4.561384</td>\n",
       "      <td>19502</td>\n",
       "      <td>88956.109279</td>\n",
       "      <td>NaN</td>\n",
       "      <td>23.844035</td>\n",
       "      <td>134.493233</td>\n",
       "    </tr>\n",
       "    <tr>\n",
       "      <th>...</th>\n",
       "      <td>...</td>\n",
       "      <td>...</td>\n",
       "      <td>...</td>\n",
       "      <td>...</td>\n",
       "      <td>...</td>\n",
       "      <td>...</td>\n",
       "      <td>...</td>\n",
       "      <td>...</td>\n",
       "      <td>...</td>\n",
       "    </tr>\n",
       "    <tr>\n",
       "      <th>345</th>\n",
       "      <td>2023</td>\n",
       "      <td>Дальний Восток</td>\n",
       "      <td>Пшеница</td>\n",
       "      <td>4.234885</td>\n",
       "      <td>25360</td>\n",
       "      <td>107396.672191</td>\n",
       "      <td>281.960542</td>\n",
       "      <td>18.032795</td>\n",
       "      <td>160.789619</td>\n",
       "    </tr>\n",
       "    <tr>\n",
       "      <th>346</th>\n",
       "      <td>2023</td>\n",
       "      <td>Дальний Восток</td>\n",
       "      <td>Ячмень</td>\n",
       "      <td>4.709431</td>\n",
       "      <td>13547</td>\n",
       "      <td>63798.661415</td>\n",
       "      <td>251.204802</td>\n",
       "      <td>5.860139</td>\n",
       "      <td>150.029999</td>\n",
       "    </tr>\n",
       "    <tr>\n",
       "      <th>347</th>\n",
       "      <td>2023</td>\n",
       "      <td>Дальний Восток</td>\n",
       "      <td>Кукуруза</td>\n",
       "      <td>NaN</td>\n",
       "      <td>49617</td>\n",
       "      <td>96723.414289</td>\n",
       "      <td>208.816033</td>\n",
       "      <td>12.581881</td>\n",
       "      <td>100.601832</td>\n",
       "    </tr>\n",
       "    <tr>\n",
       "      <th>348</th>\n",
       "      <td>2023</td>\n",
       "      <td>Дальний Восток</td>\n",
       "      <td>Картофель</td>\n",
       "      <td>3.717891</td>\n",
       "      <td>39926</td>\n",
       "      <td>148440.501294</td>\n",
       "      <td>398.145668</td>\n",
       "      <td>NaN</td>\n",
       "      <td>90.001279</td>\n",
       "    </tr>\n",
       "    <tr>\n",
       "      <th>349</th>\n",
       "      <td>2023</td>\n",
       "      <td>Дальний Восток</td>\n",
       "      <td>Подсолнечник</td>\n",
       "      <td>3.289414</td>\n",
       "      <td>49864</td>\n",
       "      <td>164023.345089</td>\n",
       "      <td>387.118315</td>\n",
       "      <td>20.479828</td>\n",
       "      <td>165.938222</td>\n",
       "    </tr>\n",
       "  </tbody>\n",
       "</table>\n",
       "<p>350 rows × 9 columns</p>\n",
       "</div>"
      ]
     },
     "execution_count": 54,
     "metadata": {},
     "output_type": "execute_result"
    }
   ],
   "execution_count": 54
  },
  {
   "metadata": {
    "ExecuteTime": {
     "end_time": "2025-02-20T08:18:18.748447Z",
     "start_time": "2025-02-20T08:18:18.736399Z"
    }
   },
   "cell_type": "code",
   "source": "df.info()",
   "id": "bb7ee6bb1bdd0775",
   "outputs": [
    {
     "name": "stdout",
     "output_type": "stream",
     "text": [
      "<class 'pandas.core.frame.DataFrame'>\n",
      "RangeIndex: 350 entries, 0 to 349\n",
      "Data columns (total 9 columns):\n",
      " #   Column                  Non-Null Count  Dtype  \n",
      "---  ------                  --------------  -----  \n",
      " 0   Год                     350 non-null    int64  \n",
      " 1   Регион                  350 non-null    object \n",
      " 2   Культура                350 non-null    object \n",
      " 3   Урожайность (т/га)      316 non-null    float64\n",
      " 4   Площадь (га)            350 non-null    int64  \n",
      " 5   Общее производство (т)  350 non-null    float64\n",
      " 6   Осадки (мм)             311 non-null    float64\n",
      " 7   Температура (°C)        310 non-null    float64\n",
      " 8   Удобрения (кг/га)       350 non-null    float64\n",
      "dtypes: float64(5), int64(2), object(2)\n",
      "memory usage: 24.7+ KB\n"
     ]
    }
   ],
   "execution_count": 55
  },
  {
   "metadata": {
    "ExecuteTime": {
     "end_time": "2025-02-20T08:18:18.861243Z",
     "start_time": "2025-02-20T08:18:18.832107Z"
    }
   },
   "cell_type": "code",
   "source": "df.describe()",
   "id": "7e54a75c39d0dca8",
   "outputs": [
    {
     "data": {
      "text/plain": [
       "             Год  Урожайность (т/га)  Площадь (га)  Общее производство (т)  \\\n",
       "count   350.0000          316.000000    350.000000              350.000000   \n",
       "mean   2016.5000            3.696923  26686.600000            97405.151270   \n",
       "std       4.0369            1.287619  13201.999583            59237.515474   \n",
       "min    2010.0000            1.522870   5189.000000             8692.788341   \n",
       "25%    2013.0000            2.565235  15369.750000            56796.193299   \n",
       "50%    2016.5000            3.707488  26861.500000            85860.964458   \n",
       "75%    2020.0000            4.798382  37367.750000           123971.065186   \n",
       "max    2023.0000            5.965869  49912.000000           279933.983555   \n",
       "\n",
       "       Осадки (мм)  Температура (°C)  Удобрения (кг/га)  \n",
       "count   311.000000        310.000000         350.000000  \n",
       "mean    488.216040         14.995586         123.142618  \n",
       "std     166.149030          5.945586          43.399595  \n",
       "min     201.550409          5.150687          50.350909  \n",
       "25%     362.514257          9.872797          84.106848  \n",
       "50%     476.867307         15.281885         124.469993  \n",
       "75%     619.145736         20.216558         162.209375  \n",
       "max     797.558745         24.937485         199.568675  "
      ],
      "text/html": [
       "<div>\n",
       "<style scoped>\n",
       "    .dataframe tbody tr th:only-of-type {\n",
       "        vertical-align: middle;\n",
       "    }\n",
       "\n",
       "    .dataframe tbody tr th {\n",
       "        vertical-align: top;\n",
       "    }\n",
       "\n",
       "    .dataframe thead th {\n",
       "        text-align: right;\n",
       "    }\n",
       "</style>\n",
       "<table border=\"1\" class=\"dataframe\">\n",
       "  <thead>\n",
       "    <tr style=\"text-align: right;\">\n",
       "      <th></th>\n",
       "      <th>Год</th>\n",
       "      <th>Урожайность (т/га)</th>\n",
       "      <th>Площадь (га)</th>\n",
       "      <th>Общее производство (т)</th>\n",
       "      <th>Осадки (мм)</th>\n",
       "      <th>Температура (°C)</th>\n",
       "      <th>Удобрения (кг/га)</th>\n",
       "    </tr>\n",
       "  </thead>\n",
       "  <tbody>\n",
       "    <tr>\n",
       "      <th>count</th>\n",
       "      <td>350.0000</td>\n",
       "      <td>316.000000</td>\n",
       "      <td>350.000000</td>\n",
       "      <td>350.000000</td>\n",
       "      <td>311.000000</td>\n",
       "      <td>310.000000</td>\n",
       "      <td>350.000000</td>\n",
       "    </tr>\n",
       "    <tr>\n",
       "      <th>mean</th>\n",
       "      <td>2016.5000</td>\n",
       "      <td>3.696923</td>\n",
       "      <td>26686.600000</td>\n",
       "      <td>97405.151270</td>\n",
       "      <td>488.216040</td>\n",
       "      <td>14.995586</td>\n",
       "      <td>123.142618</td>\n",
       "    </tr>\n",
       "    <tr>\n",
       "      <th>std</th>\n",
       "      <td>4.0369</td>\n",
       "      <td>1.287619</td>\n",
       "      <td>13201.999583</td>\n",
       "      <td>59237.515474</td>\n",
       "      <td>166.149030</td>\n",
       "      <td>5.945586</td>\n",
       "      <td>43.399595</td>\n",
       "    </tr>\n",
       "    <tr>\n",
       "      <th>min</th>\n",
       "      <td>2010.0000</td>\n",
       "      <td>1.522870</td>\n",
       "      <td>5189.000000</td>\n",
       "      <td>8692.788341</td>\n",
       "      <td>201.550409</td>\n",
       "      <td>5.150687</td>\n",
       "      <td>50.350909</td>\n",
       "    </tr>\n",
       "    <tr>\n",
       "      <th>25%</th>\n",
       "      <td>2013.0000</td>\n",
       "      <td>2.565235</td>\n",
       "      <td>15369.750000</td>\n",
       "      <td>56796.193299</td>\n",
       "      <td>362.514257</td>\n",
       "      <td>9.872797</td>\n",
       "      <td>84.106848</td>\n",
       "    </tr>\n",
       "    <tr>\n",
       "      <th>50%</th>\n",
       "      <td>2016.5000</td>\n",
       "      <td>3.707488</td>\n",
       "      <td>26861.500000</td>\n",
       "      <td>85860.964458</td>\n",
       "      <td>476.867307</td>\n",
       "      <td>15.281885</td>\n",
       "      <td>124.469993</td>\n",
       "    </tr>\n",
       "    <tr>\n",
       "      <th>75%</th>\n",
       "      <td>2020.0000</td>\n",
       "      <td>4.798382</td>\n",
       "      <td>37367.750000</td>\n",
       "      <td>123971.065186</td>\n",
       "      <td>619.145736</td>\n",
       "      <td>20.216558</td>\n",
       "      <td>162.209375</td>\n",
       "    </tr>\n",
       "    <tr>\n",
       "      <th>max</th>\n",
       "      <td>2023.0000</td>\n",
       "      <td>5.965869</td>\n",
       "      <td>49912.000000</td>\n",
       "      <td>279933.983555</td>\n",
       "      <td>797.558745</td>\n",
       "      <td>24.937485</td>\n",
       "      <td>199.568675</td>\n",
       "    </tr>\n",
       "  </tbody>\n",
       "</table>\n",
       "</div>"
      ]
     },
     "execution_count": 56,
     "metadata": {},
     "output_type": "execute_result"
    }
   ],
   "execution_count": 56
  },
  {
   "metadata": {
    "ExecuteTime": {
     "end_time": "2025-02-20T08:18:18.987400Z",
     "start_time": "2025-02-20T08:18:18.979335Z"
    }
   },
   "cell_type": "code",
   "source": "df.isnull().sum().sort_values(ascending=False)",
   "id": "24351b096a9c5eaf",
   "outputs": [
    {
     "data": {
      "text/plain": [
       "Температура (°C)          40\n",
       "Осадки (мм)               39\n",
       "Урожайность (т/га)        34\n",
       "Год                        0\n",
       "Регион                     0\n",
       "Площадь (га)               0\n",
       "Культура                   0\n",
       "Общее производство (т)     0\n",
       "Удобрения (кг/га)          0\n",
       "dtype: int64"
      ]
     },
     "execution_count": 57,
     "metadata": {},
     "output_type": "execute_result"
    }
   ],
   "execution_count": 57
  },
  {
   "metadata": {
    "ExecuteTime": {
     "end_time": "2025-02-20T08:18:19.122708Z",
     "start_time": "2025-02-20T08:18:19.113410Z"
    }
   },
   "cell_type": "code",
   "source": "((df.isnull().sum() / df.shape[0]) * 100).sort_values(ascending=False)",
   "id": "ca645644967b5801",
   "outputs": [
    {
     "data": {
      "text/plain": [
       "Температура (°C)          11.428571\n",
       "Осадки (мм)               11.142857\n",
       "Урожайность (т/га)         9.714286\n",
       "Год                        0.000000\n",
       "Регион                     0.000000\n",
       "Площадь (га)               0.000000\n",
       "Культура                   0.000000\n",
       "Общее производство (т)     0.000000\n",
       "Удобрения (кг/га)          0.000000\n",
       "dtype: float64"
      ]
     },
     "execution_count": 58,
     "metadata": {},
     "output_type": "execute_result"
    }
   ],
   "execution_count": 58
  },
  {
   "metadata": {
    "ExecuteTime": {
     "end_time": "2025-02-20T08:18:19.297770Z",
     "start_time": "2025-02-20T08:18:19.284895Z"
    }
   },
   "cell_type": "code",
   "source": "df.info()",
   "id": "97f990f762ec68d7",
   "outputs": [
    {
     "name": "stdout",
     "output_type": "stream",
     "text": [
      "<class 'pandas.core.frame.DataFrame'>\n",
      "RangeIndex: 350 entries, 0 to 349\n",
      "Data columns (total 9 columns):\n",
      " #   Column                  Non-Null Count  Dtype  \n",
      "---  ------                  --------------  -----  \n",
      " 0   Год                     350 non-null    int64  \n",
      " 1   Регион                  350 non-null    object \n",
      " 2   Культура                350 non-null    object \n",
      " 3   Урожайность (т/га)      316 non-null    float64\n",
      " 4   Площадь (га)            350 non-null    int64  \n",
      " 5   Общее производство (т)  350 non-null    float64\n",
      " 6   Осадки (мм)             311 non-null    float64\n",
      " 7   Температура (°C)        310 non-null    float64\n",
      " 8   Удобрения (кг/га)       350 non-null    float64\n",
      "dtypes: float64(5), int64(2), object(2)\n",
      "memory usage: 24.7+ KB\n"
     ]
    }
   ],
   "execution_count": 59
  },
  {
   "metadata": {
    "ExecuteTime": {
     "end_time": "2025-02-20T08:18:19.589336Z",
     "start_time": "2025-02-20T08:18:19.578723Z"
    }
   },
   "cell_type": "code",
   "source": "df.fillna(df.median(numeric_only=True), inplace=True)",
   "id": "f88354509a162dcb",
   "outputs": [],
   "execution_count": 60
  },
  {
   "metadata": {
    "ExecuteTime": {
     "end_time": "2025-02-20T08:18:19.626916Z",
     "start_time": "2025-02-20T08:18:19.609346Z"
    }
   },
   "cell_type": "code",
   "source": "df.isnull().sum()",
   "id": "ce0e27369d37b04d",
   "outputs": [
    {
     "data": {
      "text/plain": [
       "Год                       0\n",
       "Регион                    0\n",
       "Культура                  0\n",
       "Урожайность (т/га)        0\n",
       "Площадь (га)              0\n",
       "Общее производство (т)    0\n",
       "Осадки (мм)               0\n",
       "Температура (°C)          0\n",
       "Удобрения (кг/га)         0\n",
       "dtype: int64"
      ]
     },
     "execution_count": 61,
     "metadata": {},
     "output_type": "execute_result"
    }
   ],
   "execution_count": 61
  },
  {
   "metadata": {
    "ExecuteTime": {
     "end_time": "2025-02-20T08:18:19.699914Z",
     "start_time": "2025-02-20T08:18:19.691434Z"
    }
   },
   "cell_type": "code",
   "source": "df[\"Культура\"]",
   "id": "8000716527f0a04c",
   "outputs": [
    {
     "data": {
      "text/plain": [
       "0           Пшеница\n",
       "1            Ячмень\n",
       "2          Кукуруза\n",
       "3         Картофель\n",
       "4      Подсолнечник\n",
       "           ...     \n",
       "345         Пшеница\n",
       "346          Ячмень\n",
       "347        Кукуруза\n",
       "348       Картофель\n",
       "349    Подсолнечник\n",
       "Name: Культура, Length: 350, dtype: object"
      ]
     },
     "execution_count": 62,
     "metadata": {},
     "output_type": "execute_result"
    }
   ],
   "execution_count": 62
  },
  {
   "metadata": {
    "ExecuteTime": {
     "end_time": "2025-02-20T08:18:20.143575Z",
     "start_time": "2025-02-20T08:18:19.798756Z"
    }
   },
   "cell_type": "code",
   "source": [
    "plt.figure(figsize = (10, 5))\n",
    "sns.histplot(df[\"Урожайность (т/га)\"])\n",
    "plt.title(r'Урожай')\n",
    "plt.xlabel('Количество')\n",
    "plt.ylabel('Урожайность')\n",
    "plt.show()\n",
    "\n",
    "\n",
    "plt.figure(figsize=(10, 5))\n",
    "sns.boxplot(df['Урожайность (т/га)'])\n",
    "plt.title(r'Урожай')\n",
    "plt.ylabel('Урожайность')\n",
    "plt.xlabel('Количество')\n",
    "plt.show()"
   ],
   "id": "ece8a75fdb04a868",
   "outputs": [
    {
     "data": {
      "text/plain": [
       "<Figure size 1000x500 with 1 Axes>"
      ],
      "image/png": "[encoded data removed]"
     },
     "metadata": {},
     "output_type": "display_data"
    },
    {
     "data": {
      "text/plain": [
       "<Figure size 1000x500 with 1 Axes>"
      ],
      "image/png": "[encoded data removed]"
     },
     "metadata": {},
     "output_type": "display_data"
    }
   ],
   "execution_count": 63
  },
  {
   "metadata": {
    "ExecuteTime": {
     "end_time": "2025-02-20T08:18:20.203875Z",
     "start_time": "2025-02-20T08:18:20.190796Z"
    }
   },
   "cell_type": "code",
   "source": "df.to_csv(r'..\\data\\urozhai_data_Cleaned.csv', index = False)",
   "id": "240ab92f4481b9ed",
   "outputs": [],
   "execution_count": 64
  },
  {
   "metadata": {
    "ExecuteTime": {
     "end_time": "2025-02-20T08:18:20.223103Z",
     "start_time": "2025-02-20T08:18:20.219353Z"
    }
   },
   "cell_type": "code",
   "source": "",
   "id": "190575ff959d971b",
   "outputs": [],
   "execution_count": null
  }
 ],
 "metadata": {
  "kernelspec": {
   "display_name": "Python 3",
   "language": "python",
   "name": "python3"
  },
  "language_info": {
   "codemirror_mode": {
    "name": "ipython",
    "version": 2
   },
   "file_extension": ".py",
   "mimetype": "text/x-python",
   "name": "python",
   "nbconvert_exporter": "python",
   "pygments_lexer": "ipython2",
   "version": "2.7.6"
  }
 },
 "nbformat": 4,
 "nbformat_minor": 5
}
